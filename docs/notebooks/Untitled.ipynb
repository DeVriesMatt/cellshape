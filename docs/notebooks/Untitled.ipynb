{
 "cells": [
  {
   "cell_type": "code",
   "execution_count": 2,
   "id": "d31e83d8",
   "metadata": {},
   "outputs": [],
   "source": [
    "import cellshape_cloud as cscloud\n",
    "\n",
    "autoencoder = cscloud.CloudAutoEncoder(\n",
    "                num_features=128,\n",
    "                k=20,\n",
    "                encoder_type=\"dgcnn\",\n",
    "                decoder_type=\"foldingnetbasic\",\n",
    "            )"
   ]
  },
  {
   "cell_type": "code",
   "execution_count": 3,
   "id": "8d0816b1",
   "metadata": {},
   "outputs": [
    {
     "data": {
      "text/plain": [
       "CloudAutoEncoder(\n",
       "  (encoder): DGCNNEncoder(\n",
       "    (conv1): Sequential(\n",
       "      (0): Conv2d(6, 64, kernel_size=(1, 1), stride=(1, 1), bias=False)\n",
       "      (1): BatchNorm2d(64, eps=1e-05, momentum=0.1, affine=True, track_running_stats=True)\n",
       "      (2): LeakyReLU(negative_slope=0.2)\n",
       "    )\n",
       "    (conv2): Sequential(\n",
       "      (0): Conv2d(128, 64, kernel_size=(1, 1), stride=(1, 1), bias=False)\n",
       "      (1): BatchNorm2d(64, eps=1e-05, momentum=0.1, affine=True, track_running_stats=True)\n",
       "      (2): LeakyReLU(negative_slope=0.2)\n",
       "    )\n",
       "    (conv3): Sequential(\n",
       "      (0): Conv2d(128, 128, kernel_size=(1, 1), stride=(1, 1), bias=False)\n",
       "      (1): BatchNorm2d(128, eps=1e-05, momentum=0.1, affine=True, track_running_stats=True)\n",
       "      (2): LeakyReLU(negative_slope=0.2)\n",
       "    )\n",
       "    (conv4): Sequential(\n",
       "      (0): Conv2d(256, 256, kernel_size=(1, 1), stride=(1, 1), bias=False)\n",
       "      (1): BatchNorm2d(256, eps=1e-05, momentum=0.1, affine=True, track_running_stats=True)\n",
       "      (2): LeakyReLU(negative_slope=0.2)\n",
       "    )\n",
       "    (conv5): Sequential(\n",
       "      (0): Conv1d(512, 512, kernel_size=(1,), stride=(1,), bias=False)\n",
       "      (1): BatchNorm1d(512, eps=1e-05, momentum=0.1, affine=True, track_running_stats=True)\n",
       "      (2): LeakyReLU(negative_slope=0.2)\n",
       "    )\n",
       "    (flatten): Flatten()\n",
       "    (embedding): Linear(in_features=512, out_features=128, bias=False)\n",
       "  )\n",
       "  (decoder): FoldingNetBasicDecoder(\n",
       "    (deembedding): Linear(in_features=128, out_features=512, bias=False)\n",
       "    (folding): FoldingModule(\n",
       "      (folding1): Sequential(\n",
       "        (0): Linear(in_features=514, out_features=512, bias=True)\n",
       "        (1): ReLU()\n",
       "        (2): Linear(in_features=512, out_features=512, bias=True)\n",
       "        (3): ReLU()\n",
       "        (4): Linear(in_features=512, out_features=3, bias=True)\n",
       "      )\n",
       "      (folding2): Sequential(\n",
       "        (0): Linear(in_features=515, out_features=512, bias=True)\n",
       "        (1): ReLU()\n",
       "        (2): Linear(in_features=512, out_features=512, bias=True)\n",
       "        (3): ReLU()\n",
       "        (4): Linear(in_features=512, out_features=3, bias=True)\n",
       "      )\n",
       "    )\n",
       "  )\n",
       ")"
      ]
     },
     "execution_count": 3,
     "metadata": {},
     "output_type": "execute_result"
    }
   ],
   "source": [
    "autoencoder"
   ]
  },
  {
   "cell_type": "code",
   "execution_count": 6,
   "id": "956aff83",
   "metadata": {},
   "outputs": [],
   "source": [
    "import torch\n",
    "\n",
    "checkpoint = torch.load(\"/home/mvries/Documents/cellshapeOutput/nets/dgcnn_foldingnetbasic_128_pretrained_001.pt\")"
   ]
  },
  {
   "cell_type": "code",
   "execution_count": null,
   "id": "75161c60",
   "metadata": {},
   "outputs": [],
   "source": [
    "/home/mvries/Documents/cellshapeOutput/nets/dgcnn_foldingnetbasic_128_pretrain_001.pt\n",
    "/home/mvries/Documents/cellshapeOutput/nets/dgcnn_foldingnetbasic_128_pretrained_001.p\n"
   ]
  }
 ],
 "metadata": {
  "kernelspec": {
   "display_name": "Python 3 (ipykernel)",
   "language": "python",
   "name": "python3"
  },
  "language_info": {
   "codemirror_mode": {
    "name": "ipython",
    "version": 3
   },
   "file_extension": ".py",
   "mimetype": "text/x-python",
   "name": "python",
   "nbconvert_exporter": "python",
   "pygments_lexer": "ipython3",
   "version": "3.8.13"
  }
 },
 "nbformat": 4,
 "nbformat_minor": 5
}
